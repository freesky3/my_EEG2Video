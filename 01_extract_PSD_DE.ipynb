{
 "cells": [
  {
   "cell_type": "markdown",
   "id": "e1b2d565",
   "metadata": {},
   "source": [
    "This file trying to extract PSD and DE from EEG data."
   ]
  },
  {
   "cell_type": "markdown",
   "id": "2b800033",
   "metadata": {},
   "source": [
    "## CONFIGURATIONS"
   ]
  },
  {
   "cell_type": "code",
   "execution_count": 4,
   "id": "56619549",
   "metadata": {},
   "outputs": [
    {
     "data": {
      "text/plain": [
       "'\\n1-4Hz corresponds to delta band\\n4-8Hz corresponds to theta band\\n8-14Hz corresponds to alpha band\\n14-31Hz corresponds to beta band\\n31-99Hz corresponds to gamma band\\n'"
      ]
     },
     "execution_count": 4,
     "metadata": {},
     "output_type": "execute_result"
    }
   ],
   "source": [
    "CONFIG = {\n",
    "    \"waching_data_path\": \"data\\sliced_eeg\\watching\", \n",
    "    \"imaging_data_path\": \"data\\sliced_eeg\\imaging\",\n",
    "    \"watching_PSD_DE\": \"data\\PSD_DE\\watching\",\n",
    "    \"imaging_PSD_DE\": \"data\\PSD_DE\\imaging\", \n",
    "    \"freq_band\": [(1, 4), (4, 8), (8, 14), (14, 31), (31, 99)], \n",
    "    \"watching_time\": 2, \n",
    "    \"imaging_time\": 3, \n",
    "    \"frequency\": 200\n",
    "}\n",
    "\n",
    "'''\n",
    "1-4Hz corresponds to delta band\n",
    "4-8Hz corresponds to theta band\n",
    "8-14Hz corresponds to alpha band\n",
    "14-31Hz corresponds to beta band\n",
    "31-99Hz corresponds to gamma band\n",
    "'''"
   ]
  },
  {
   "cell_type": "markdown",
   "id": "9ea2ebf7",
   "metadata": {},
   "source": [
    "## Extract PSD and DE from eeg data"
   ]
  },
  {
   "cell_type": "code",
   "execution_count": 5,
   "id": "7479d331",
   "metadata": {},
   "outputs": [],
   "source": [
    "import numpy as np\n",
    "\n",
    "def DE_PSD(data, time_win, fre=CONFIG[\"frequency\"], STFTN = 200, freq_band = CONFIG[\"freq_band\"]): \n",
    "    '''\n",
    "    compute the differential entropy(DE) and power spectral density(PSD) of EEG signal\n",
    "    \n",
    "    args:\n",
    "    data: EEG signal, (2*200) or (3*200)\n",
    "    fre: sampling frequency\n",
    "    time_win: time window for calculating PSD\n",
    "    STFTN: number of points for Short-Time Fourier, which will influence the frequency resolution\n",
    "    freq_band: frequency bands for calculating PSD\n",
    "\n",
    "    \n",
    "    returns:\n",
    "    DE: differential entropy, (num_electrodes=62, len(freq_band)=5)\n",
    "    PSD: power spectral density, (num_electrodes=62, len(freq_band)=5)\n",
    "    '''\n",
    "\n",
    "    # turn freq_band into np array\n",
    "    fStart, fEnd = list(zip(*freq_band))\n",
    "    fStart, fEnd = np.array(fStart), np.array(fEnd)\n",
    "    fStartNum = (fStart/fre*STFTN).astype(int)\n",
    "    fEndNum = (fEnd/fre*STFTN).astype(int)\n",
    "\n",
    "    # calculate Hann window for smoothing\n",
    "    Hlength = int(time_win*fre)\n",
    "    Hwindow = np.hanning(Hlength)\n",
    "    \n",
    "    \n",
    "    num_electrodes = data.shape[0]\n",
    "    psd = np.zeros((num_electrodes, len(freq_band)))\n",
    "    de = np.zeros((num_electrodes, len(freq_band)))\n",
    "\n",
    "    for i in range(num_electrodes):\n",
    "        data_i = data[i,:]\n",
    "        Hdata = data_i*Hwindow\n",
    "        FFTdata = np.fft.fft(Hdata, n=STFTN)\n",
    "        # input of fft is real signal, so only need to calculate half of the spectrum\n",
    "        magFFTdata = abs(FFTdata[0:int(STFTN/2)])\n",
    "\n",
    "        # calculate PSD DE\n",
    "        for p in range(0,len(freq_band)):\n",
    "            E = 0\n",
    "            for p0 in range(fStartNum[p],fEndNum[p]+1):\n",
    "                E=E+magFFTdata[p0]*magFFTdata[p0]\n",
    "            E = E/(fEndNum[p]-fStartNum[p]+1)\n",
    "            psd[i][p] = E\n",
    "            de[i][p] = np.log2(100*E)\n",
    "        \n",
    "    return de, psd\n",
    "\n",
    "def extract_features(clip_segments, time_win):\n",
    "    DE_list = []\n",
    "    PSD_list = []\n",
    "    for i in range(0,clip_segments.shape[0]):\n",
    "        DE_list_i = []\n",
    "        PSD_list_i = []\n",
    "        for j in range(0, clip_segments.shape[1]):\n",
    "            DE, PSD = DE_PSD(clip_segments[i,j,:], time_win)\n",
    "            DE_list_i.append(DE)\n",
    "            PSD_list_i.append(PSD)\n",
    "        DE_list.append(np.stack(DE_list_i, 0))\n",
    "        PSD_list.append(np.stack(PSD_list_i, 0))\n",
    "    DE_list = np.stack(DE_list, 0)\n",
    "    PSD_list = np.stack(PSD_list, 0)\n",
    "    PSD_DE_data = np.stack((PSD_list, DE_list))\n",
    "    return PSD_DE_data"
   ]
  },
  {
   "cell_type": "markdown",
   "id": "b52e5296",
   "metadata": {},
   "source": [
    "## Start!"
   ]
  },
  {
   "cell_type": "code",
   "execution_count": null,
   "id": "52692977",
   "metadata": {},
   "outputs": [
    {
     "name": "stderr",
     "output_type": "stream",
     "text": [
      "  0%|          | 0/6 [00:00<?, ?it/s]"
     ]
    },
    {
     "name": "stdout",
     "output_type": "stream",
     "text": [
      "(5, 50, 62, 400)\n"
     ]
    },
    {
     "name": "stderr",
     "output_type": "stream",
     "text": [
      " 17%|█▋        | 1/6 [00:00<00:02,  1.95it/s]"
     ]
    },
    {
     "name": "stdout",
     "output_type": "stream",
     "text": [
      "(5, 50, 62, 400)\n"
     ]
    },
    {
     "name": "stderr",
     "output_type": "stream",
     "text": [
      " 33%|███▎      | 2/6 [00:01<00:02,  1.88it/s]"
     ]
    },
    {
     "name": "stdout",
     "output_type": "stream",
     "text": [
      "(5, 50, 62, 400)\n"
     ]
    },
    {
     "name": "stderr",
     "output_type": "stream",
     "text": [
      " 50%|█████     | 3/6 [00:01<00:01,  1.89it/s]"
     ]
    },
    {
     "name": "stdout",
     "output_type": "stream",
     "text": [
      "(5, 50, 62, 400)\n"
     ]
    },
    {
     "name": "stderr",
     "output_type": "stream",
     "text": [
      " 67%|██████▋   | 4/6 [00:02<00:01,  1.90it/s]"
     ]
    },
    {
     "name": "stdout",
     "output_type": "stream",
     "text": [
      "(5, 50, 62, 400)\n"
     ]
    },
    {
     "name": "stderr",
     "output_type": "stream",
     "text": [
      " 83%|████████▎ | 5/6 [00:02<00:00,  1.89it/s]"
     ]
    },
    {
     "name": "stdout",
     "output_type": "stream",
     "text": [
      "(5, 50, 62, 400)\n"
     ]
    },
    {
     "name": "stderr",
     "output_type": "stream",
     "text": [
      "100%|██████████| 6/6 [00:03<00:00,  1.89it/s]\n",
      "100%|██████████| 6/6 [00:03<00:00,  1.84it/s]\n"
     ]
    }
   ],
   "source": [
    "import os\n",
    "from tqdm import tqdm\n",
    "\n",
    "for file in tqdm(os.listdir(CONFIG[\"waching_data_path\"])):\n",
    "    if file.endswith(\".npy\"):\n",
    "        watching_data = np.load(os.path.join(CONFIG[\"waching_data_path\"], file))\n",
    "        print(watching_data.shape)\n",
    "        watching_PSD_DE = extract_features(watching_data, time_win=CONFIG[\"watching_time\"])\n",
    "        np.save(os.path.join(CONFIG[\"watching_PSD_DE\"], file.replace(\".npy\", \"_PSD_DE.npy\")), watching_PSD_DE)\n",
    "\n",
    "for file in tqdm(os.listdir(CONFIG[\"imaging_data_path\"])):\n",
    "    if file.endswith(\".npy\"):\n",
    "        imaging_data = np.load(os.path.join(CONFIG[\"imaging_data_path\"], file))\n",
    "        imaging_PSD_DE = extract_features(imaging_data, time_win=CONFIG[\"imaging_time\"])\n",
    "        np.save(os.path.join(CONFIG[\"imaging_PSD_DE\"], file.replace(\".npy\", \"_PSD_DE.npy\")), imaging_PSD_DE)\n",
    "\n",
    "print(\"=\"*50, \"\\nAll files are done!\")"
   ]
  }
 ],
 "metadata": {
  "kernelspec": {
   "display_name": "eeg_test",
   "language": "python",
   "name": "python3"
  },
  "language_info": {
   "codemirror_mode": {
    "name": "ipython",
    "version": 3
   },
   "file_extension": ".py",
   "mimetype": "text/x-python",
   "name": "python",
   "nbconvert_exporter": "python",
   "pygments_lexer": "ipython3",
   "version": "3.11.13"
  }
 },
 "nbformat": 4,
 "nbformat_minor": 5
}
