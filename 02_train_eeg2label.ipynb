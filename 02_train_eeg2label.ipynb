{
 "cells": [
  {
   "cell_type": "markdown",
   "id": "20ec9d40",
   "metadata": {},
   "source": [
    "## Configuration"
   ]
  },
  {
   "cell_type": "code",
   "execution_count": null,
   "id": "65c5a8b7",
   "metadata": {},
   "outputs": [],
   "source": [
    "CONFIG = {\n",
    "    \"data_path\": \"data\\PSD_DE\\imaging\", # or \"data/PSD_DE/watching\"\n",
    "    \"label_path\": \"data/metadata/GT_label.npy\",\n",
    "    \"save_path\": \"checkpoints/eeg2label\",\n",
    "\n",
    "    \"seed\": 42, \n",
    "    \"train_valid\": [0.8, 0.2], \n",
    "    \"batch_size\": 32,\n",
    "    \"num_workers\": 0,\n",
    "\n",
    "    \"input_dim\": 62*5,\n",
    "    \"emb_dim\": 64,\n",
    "    \"out_dim\": 50,\n",
    "\n",
    "    \"learning_rate\": 0.001, \n",
    "    \"valid_steps\": 10,\n",
    "    \"epochs\": 100, \n",
    "}"
   ]
  },
  {
   "cell_type": "code",
   "execution_count": 2,
   "id": "0e389f3f",
   "metadata": {},
   "outputs": [],
   "source": [
    "import torch\n",
    "import numpy as np\n",
    "import random\n",
    "import os\n",
    "\n",
    "def set_seed(seed):\n",
    "    np.random.seed(seed)\n",
    "    random.seed(seed)\n",
    "    torch.manual_seed(seed)\n",
    "    os.environ['PYTHONHASHSEED'] = str(seed)\n",
    "    if torch.cuda.is_available():\n",
    "        torch.cuda.manual_seed(seed)\n",
    "        torch.cuda.manual_seed_all(seed)\n",
    "    torch.backends.cudnn.benchmark = False\n",
    "    torch.backends.cudnn.deterministic = True"
   ]
  },
  {
   "cell_type": "markdown",
   "id": "9deb4d9b",
   "metadata": {},
   "source": [
    "## Load Data"
   ]
  },
  {
   "cell_type": "code",
   "execution_count": 3,
   "id": "7a434dfa",
   "metadata": {},
   "outputs": [],
   "source": [
    "from torch.utils.data import Dataset\n",
    "\n",
    "from einops import rearrange, repeat\n",
    "\n",
    "class myDataset(Dataset): \n",
    "    '''Generate dataset'''\n",
    "    def __init__(self, data_path, label_path):\n",
    "        self.data, self.label = self.data_label(data_path, label_path)\n",
    "\n",
    "    def __len__(self):\n",
    "        return len(self.data)\n",
    "\n",
    "    def __getitem__(self, idx):\n",
    "        return self.data[idx].astype(np.float32), self.label[idx].astype(np.int64)-1\n",
    "\n",
    "    def data_label(self, data_path, label_path):\n",
    "        '''concat the watching or imaging data and label into structured data\n",
    "        Args:\n",
    "            data_path: the path of watching or imaging data, corresponding data's shape (2, 5, 50, 62, 5)\n",
    "                2: PSD and DE, 5: 5 videos, 50: 50 clips per video, 62: 62 electrodes, 5: 5 frequency bands\n",
    "            label_path: the path of label, corresponding label's shape (5, 50)\n",
    "                5: 5 videos, 50: 50 clips per video\n",
    "        Returns:\n",
    "            structured_data: the structured data, (60*2*5*50, )\n",
    "                60: 60 experiments, 2: PSD and DE, 5: 5 videos, 50: 50 clips per video\n",
    "                each elements: \n",
    "                    'features':(62*5, ), 62 electrodes, 5 frequency bands\n",
    "                    'label':int\"\n",
    "        '''\n",
    "        data = []\n",
    "        for file in os.listdir(data_path):\n",
    "            file_path = os.path.join(data_path, file)\n",
    "            data.append(np.load(file_path))\n",
    "        data = np.stack(data, axis=0)\n",
    "        label = np.load(label_path)\n",
    "        rearrange_data = rearrange(data, 'a b c d e f -> (a b c d) (e f)') # a is number of experiments\n",
    "        rearrange_label = repeat(label, 'a b -> (repeat a b)', repeat=data.shape[0]*data.shape[1])\n",
    "\n",
    "        return rearrange_data, rearrange_label"
   ]
  },
  {
   "cell_type": "markdown",
   "id": "5eea902c",
   "metadata": {},
   "source": [
    "## Load Data"
   ]
  },
  {
   "cell_type": "code",
   "execution_count": null,
   "id": "8db3a933",
   "metadata": {},
   "outputs": [],
   "source": [
    "from torch.utils.data import DataLoader, random_split\n",
    "\n",
    "def get_dataloader(data_path, label_path, batch_size, num_workers=0):\n",
    "    '''Generate dataloader'''\n",
    "    dataset = myDataset(data_path, label_path)\n",
    "    trainset, validset = random_split(dataset, CONFIG[\"train_valid\"])\n",
    "\n",
    "    train_loader = DataLoader(\n",
    "        trainset, \n",
    "        batch_size=batch_size,\n",
    "        shuffle=True,\n",
    "        drop_last=False,\n",
    "        num_workers=num_workers, \n",
    "        pin_memory=torch.cuda.is_available()\n",
    "    )\n",
    "    \n",
    "    valid_loader = DataLoader(\n",
    "        validset, \n",
    "        batch_size=batch_size,\n",
    "        shuffle=True,\n",
    "        drop_last=False,\n",
    "        num_workers=num_workers, \n",
    "        pin_memory=torch.cuda.is_available()\n",
    "    )\n",
    "\n",
    "    return train_loader, valid_loader"
   ]
  },
  {
   "cell_type": "markdown",
   "id": "aaf7c04c",
   "metadata": {},
   "source": [
    "## Define Model"
   ]
  },
  {
   "cell_type": "code",
   "execution_count": 5,
   "id": "741c73a8",
   "metadata": {},
   "outputs": [],
   "source": [
    "from models.eeg2label import glfnet"
   ]
  },
  {
   "cell_type": "markdown",
   "id": "6c94147d",
   "metadata": {},
   "source": [
    "## Loss function"
   ]
  },
  {
   "cell_type": "code",
   "execution_count": 6,
   "id": "3d5f8816",
   "metadata": {},
   "outputs": [],
   "source": [
    "def loss_acc(batch, model, criterion, device):\n",
    "    '''Forward a batch through the model'''\n",
    "    input, labels = batch\n",
    "    input = input.to(device)\n",
    "    labels = labels.to(device)\n",
    "\n",
    "    output = model(input)\n",
    "\n",
    "    loss = criterion(output, labels)\n",
    "\n",
    "    preds = output.argmax(1)\n",
    "    accuracy = torch.mean((preds == labels).float())\n",
    "\n",
    "    return loss, accuracy"
   ]
  },
  {
   "cell_type": "markdown",
   "id": "31c3e176",
   "metadata": {},
   "source": [
    "## Valid function"
   ]
  },
  {
   "cell_type": "code",
   "execution_count": 7,
   "id": "41b69d72",
   "metadata": {},
   "outputs": [],
   "source": [
    "from tqdm import tqdm\n",
    "\n",
    "def valid(data_loader, model, criterion, device): \n",
    "    '''Validate the model on the validation set'''\n",
    "    model.eval()\n",
    "    running_loss = 0\n",
    "    running_accuracy = 0\n",
    "    pbar = tqdm(total = len(data_loader.dataset), ncols=0, desc='Valid')\n",
    "\n",
    "    for i, batch in enumerate(data_loader):\n",
    "        with torch.no_grad():\n",
    "            loss, accuracy = loss_acc(batch, model, criterion, device)\n",
    "            running_loss += loss.item()\n",
    "            running_accuracy += accuracy.item()\n",
    "        pbar.update(data_loader.batch_size)\n",
    "        pbar.set_postfix(\n",
    "\t\t\tloss=f\"{running_loss / (i+1):.2f}\",\n",
    "\t\t\taccuracy=f\"{running_accuracy / (i+1):.2f}\",\n",
    "\t\t)\n",
    "    pbar.close()\n",
    "    model.train()\n",
    "\n",
    "    return running_accuracy / len(data_loader)"
   ]
  },
  {
   "cell_type": "markdown",
   "id": "65b8be18",
   "metadata": {},
   "source": [
    "# Main Function"
   ]
  },
  {
   "cell_type": "code",
   "execution_count": 8,
   "id": "d3fc5d96",
   "metadata": {},
   "outputs": [],
   "source": [
    "from torch import nn\n",
    "\n",
    "def main():\n",
    "    set_seed(CONFIG[\"seed\"])\n",
    "\n",
    "    device = torch.device(\"cuda\" if torch.cuda.is_available() else \"cpu\")\n",
    "    print(f\"[Info]: Use {device} now!\")\n",
    "\n",
    "    train_loader, valid_loader = get_dataloader(CONFIG[\"data_path\"], CONFIG[\"label_path\"], CONFIG[\"batch_size\"], num_workers=CONFIG[\"num_workers\"])\n",
    "    print(f\"[Info]: Finish loading data!\")\n",
    "\n",
    "    model = glfnet(input_dim=CONFIG[\"input_dim\"], emb_dim=CONFIG[\"emb_dim\"], out_dim=CONFIG[\"out_dim\"]).to(device)\n",
    "\n",
    "    criterion = nn.CrossEntropyLoss()\n",
    "    optimizer = torch.optim.Adam(model.parameters(), lr=CONFIG[\"learning_rate\"])\n",
    "    scheduler = torch.optim.lr_scheduler.CosineAnnealingLR(optimizer, T_max=200 * len(train_loader))\n",
    "\n",
    "    best_accuracy = 0\n",
    "    best_state_dict = None\n",
    "\n",
    "    pbar = tqdm(range(CONFIG['epochs']), desc='Train', unit='epoch', dynamic_ncols=True)\n",
    "    for epoch in pbar:\n",
    "        running_loss = 0.0\n",
    "        running_accuracy = 0.0\n",
    "        for i, batch in enumerate(train_loader):\n",
    "            loss, accuracy = loss_acc(batch, model, criterion, device)\n",
    "            batch_loss = loss.item()\n",
    "            batch_accuracy = accuracy.item()\n",
    "\n",
    "            loss.backward()\n",
    "            optimizer.step()\n",
    "            scheduler.step()\n",
    "            optimizer.zero_grad()\n",
    "\n",
    "            running_loss += batch_loss\n",
    "            running_accuracy += batch_accuracy\n",
    "\n",
    "        train_loss = running_loss/len(train_loader)\n",
    "        train_acc = running_accuracy/len(train_loader)\n",
    "        pbar.set_postfix(train_loss=train_loss, train_acc=train_acc)\n",
    "\n",
    "        if (epoch + 1) % CONFIG['valid_steps'] == 0:\n",
    "            valid_acc = valid(valid_loader, model, criterion, device)\n",
    "            pbar.write(f\"[Info]: Valid acc: {valid_acc:.4f}\")\n",
    "            if valid_acc > best_accuracy:\n",
    "                best_accuracy = valid_acc\n",
    "                best_state_dict = model.state_dict()\n",
    "                pbar.write(f\"[Info]: 😄 Best acc updated: {best_accuracy:.4f}\")\n",
    "\n",
    "    pbar.close()\n",
    "\n",
    "    torch.save(best_state_dict, os.path.join(CONFIG[\"save_path\"], \"best_model.pth\"))\n",
    "    print(\"=\"*50, f\"\\n[Info]: Best model saved to {os.path.join(CONFIG['save_path'], 'best_model.pth')}\")\n",
    "\n",
    "    "
   ]
  },
  {
   "cell_type": "markdown",
   "id": "36411702",
   "metadata": {},
   "source": [
    "## Start training!"
   ]
  },
  {
   "cell_type": "code",
   "execution_count": 9,
   "id": "febba979",
   "metadata": {},
   "outputs": [
    {
     "name": "stdout",
     "output_type": "stream",
     "text": [
      "[Info]: Use cpu now!\n",
      "[Info]: Finish loading data!\n"
     ]
    },
    {
     "name": "stderr",
     "output_type": "stream",
     "text": [
      "Train:   0%|          | 0/100 [00:00<?, ?epoch/s]d:\\app\\miniconda\\envs\\eeg_test\\Lib\\site-packages\\torch\\utils\\data\\dataloader.py:665: UserWarning: 'pin_memory' argument is set as true but no accelerator is found, then device pinned memory won't be used.\n",
      "  warnings.warn(warn_msg)\n",
      "Valid: 608it [00:00, 6105.99it/s, accuracy=0.04, loss=3.01]rain_acc=0.055, train_loss=3]    \n",
      "Train:  10%|█         | 10/100 [00:04<00:48,  1.87epoch/s, train_acc=0.055, train_loss=3]"
     ]
    },
    {
     "name": "stdout",
     "output_type": "stream",
     "text": [
      "[Info]: Valid acc: 0.0428\n",
      "[Info]: 😄 Best acc updated: 0.0428\n"
     ]
    },
    {
     "name": "stderr",
     "output_type": "stream",
     "text": [
      "Train:  12%|█▏        | 12/100 [00:06<00:44,  1.99epoch/s, train_acc=0.0542, train_loss=3]\n"
     ]
    },
    {
     "ename": "KeyboardInterrupt",
     "evalue": "",
     "output_type": "error",
     "traceback": [
      "\u001b[31m---------------------------------------------------------------------------\u001b[39m",
      "\u001b[31mKeyboardInterrupt\u001b[39m                         Traceback (most recent call last)",
      "\u001b[36mCell\u001b[39m\u001b[36m \u001b[39m\u001b[32mIn[9]\u001b[39m\u001b[32m, line 2\u001b[39m\n\u001b[32m      1\u001b[39m \u001b[38;5;28;01mif\u001b[39;00m \u001b[34m__name__\u001b[39m == \u001b[33m'\u001b[39m\u001b[33m__main__\u001b[39m\u001b[33m'\u001b[39m:\n\u001b[32m----> \u001b[39m\u001b[32m2\u001b[39m     \u001b[43mmain\u001b[49m\u001b[43m(\u001b[49m\u001b[43m)\u001b[49m\n",
      "\u001b[36mCell\u001b[39m\u001b[36m \u001b[39m\u001b[32mIn[8]\u001b[39m\u001b[32m, line 30\u001b[39m, in \u001b[36mmain\u001b[39m\u001b[34m()\u001b[39m\n\u001b[32m     27\u001b[39m batch_loss = loss.item()\n\u001b[32m     28\u001b[39m batch_accuracy = accuracy.item()\n\u001b[32m---> \u001b[39m\u001b[32m30\u001b[39m \u001b[43mloss\u001b[49m\u001b[43m.\u001b[49m\u001b[43mbackward\u001b[49m\u001b[43m(\u001b[49m\u001b[43m)\u001b[49m\n\u001b[32m     31\u001b[39m optimizer.step()\n\u001b[32m     32\u001b[39m scheduler.step()\n",
      "\u001b[36mFile \u001b[39m\u001b[32md:\\app\\miniconda\\envs\\eeg_test\\Lib\\site-packages\\torch\\_tensor.py:648\u001b[39m, in \u001b[36mTensor.backward\u001b[39m\u001b[34m(self, gradient, retain_graph, create_graph, inputs)\u001b[39m\n\u001b[32m    638\u001b[39m \u001b[38;5;28;01mif\u001b[39;00m has_torch_function_unary(\u001b[38;5;28mself\u001b[39m):\n\u001b[32m    639\u001b[39m     \u001b[38;5;28;01mreturn\u001b[39;00m handle_torch_function(\n\u001b[32m    640\u001b[39m         Tensor.backward,\n\u001b[32m    641\u001b[39m         (\u001b[38;5;28mself\u001b[39m,),\n\u001b[32m   (...)\u001b[39m\u001b[32m    646\u001b[39m         inputs=inputs,\n\u001b[32m    647\u001b[39m     )\n\u001b[32m--> \u001b[39m\u001b[32m648\u001b[39m \u001b[43mtorch\u001b[49m\u001b[43m.\u001b[49m\u001b[43mautograd\u001b[49m\u001b[43m.\u001b[49m\u001b[43mbackward\u001b[49m\u001b[43m(\u001b[49m\n\u001b[32m    649\u001b[39m \u001b[43m    \u001b[49m\u001b[38;5;28;43mself\u001b[39;49m\u001b[43m,\u001b[49m\u001b[43m \u001b[49m\u001b[43mgradient\u001b[49m\u001b[43m,\u001b[49m\u001b[43m \u001b[49m\u001b[43mretain_graph\u001b[49m\u001b[43m,\u001b[49m\u001b[43m \u001b[49m\u001b[43mcreate_graph\u001b[49m\u001b[43m,\u001b[49m\u001b[43m \u001b[49m\u001b[43minputs\u001b[49m\u001b[43m=\u001b[49m\u001b[43minputs\u001b[49m\n\u001b[32m    650\u001b[39m \u001b[43m\u001b[49m\u001b[43m)\u001b[49m\n",
      "\u001b[36mFile \u001b[39m\u001b[32md:\\app\\miniconda\\envs\\eeg_test\\Lib\\site-packages\\torch\\autograd\\__init__.py:353\u001b[39m, in \u001b[36mbackward\u001b[39m\u001b[34m(tensors, grad_tensors, retain_graph, create_graph, grad_variables, inputs)\u001b[39m\n\u001b[32m    348\u001b[39m     retain_graph = create_graph\n\u001b[32m    350\u001b[39m \u001b[38;5;66;03m# The reason we repeat the same comment below is that\u001b[39;00m\n\u001b[32m    351\u001b[39m \u001b[38;5;66;03m# some Python versions print out the first line of a multi-line function\u001b[39;00m\n\u001b[32m    352\u001b[39m \u001b[38;5;66;03m# calls in the traceback and some print out the last line\u001b[39;00m\n\u001b[32m--> \u001b[39m\u001b[32m353\u001b[39m \u001b[43m_engine_run_backward\u001b[49m\u001b[43m(\u001b[49m\n\u001b[32m    354\u001b[39m \u001b[43m    \u001b[49m\u001b[43mtensors\u001b[49m\u001b[43m,\u001b[49m\n\u001b[32m    355\u001b[39m \u001b[43m    \u001b[49m\u001b[43mgrad_tensors_\u001b[49m\u001b[43m,\u001b[49m\n\u001b[32m    356\u001b[39m \u001b[43m    \u001b[49m\u001b[43mretain_graph\u001b[49m\u001b[43m,\u001b[49m\n\u001b[32m    357\u001b[39m \u001b[43m    \u001b[49m\u001b[43mcreate_graph\u001b[49m\u001b[43m,\u001b[49m\n\u001b[32m    358\u001b[39m \u001b[43m    \u001b[49m\u001b[43minputs\u001b[49m\u001b[43m,\u001b[49m\n\u001b[32m    359\u001b[39m \u001b[43m    \u001b[49m\u001b[43mallow_unreachable\u001b[49m\u001b[43m=\u001b[49m\u001b[38;5;28;43;01mTrue\u001b[39;49;00m\u001b[43m,\u001b[49m\n\u001b[32m    360\u001b[39m \u001b[43m    \u001b[49m\u001b[43maccumulate_grad\u001b[49m\u001b[43m=\u001b[49m\u001b[38;5;28;43;01mTrue\u001b[39;49;00m\u001b[43m,\u001b[49m\n\u001b[32m    361\u001b[39m \u001b[43m\u001b[49m\u001b[43m)\u001b[49m\n",
      "\u001b[36mFile \u001b[39m\u001b[32md:\\app\\miniconda\\envs\\eeg_test\\Lib\\site-packages\\torch\\autograd\\graph.py:824\u001b[39m, in \u001b[36m_engine_run_backward\u001b[39m\u001b[34m(t_outputs, *args, **kwargs)\u001b[39m\n\u001b[32m    822\u001b[39m     unregister_hooks = _register_logging_hooks_on_whole_graph(t_outputs)\n\u001b[32m    823\u001b[39m \u001b[38;5;28;01mtry\u001b[39;00m:\n\u001b[32m--> \u001b[39m\u001b[32m824\u001b[39m     \u001b[38;5;28;01mreturn\u001b[39;00m \u001b[43mVariable\u001b[49m\u001b[43m.\u001b[49m\u001b[43m_execution_engine\u001b[49m\u001b[43m.\u001b[49m\u001b[43mrun_backward\u001b[49m\u001b[43m(\u001b[49m\u001b[43m  \u001b[49m\u001b[38;5;66;43;03m# Calls into the C++ engine to run the backward pass\u001b[39;49;00m\n\u001b[32m    825\u001b[39m \u001b[43m        \u001b[49m\u001b[43mt_outputs\u001b[49m\u001b[43m,\u001b[49m\u001b[43m \u001b[49m\u001b[43m*\u001b[49m\u001b[43margs\u001b[49m\u001b[43m,\u001b[49m\u001b[43m \u001b[49m\u001b[43m*\u001b[49m\u001b[43m*\u001b[49m\u001b[43mkwargs\u001b[49m\n\u001b[32m    826\u001b[39m \u001b[43m    \u001b[49m\u001b[43m)\u001b[49m  \u001b[38;5;66;03m# Calls into the C++ engine to run the backward pass\u001b[39;00m\n\u001b[32m    827\u001b[39m \u001b[38;5;28;01mfinally\u001b[39;00m:\n\u001b[32m    828\u001b[39m     \u001b[38;5;28;01mif\u001b[39;00m attach_logging_hooks:\n",
      "\u001b[31mKeyboardInterrupt\u001b[39m: "
     ]
    }
   ],
   "source": [
    "if __name__ == '__main__':\n",
    "    main()"
   ]
  }
 ],
 "metadata": {
  "kernelspec": {
   "display_name": "eeg_test",
   "language": "python",
   "name": "python3"
  },
  "language_info": {
   "codemirror_mode": {
    "name": "ipython",
    "version": 3
   },
   "file_extension": ".py",
   "mimetype": "text/x-python",
   "name": "python",
   "nbconvert_exporter": "python",
   "pygments_lexer": "ipython3",
   "version": "3.11.13"
  }
 },
 "nbformat": 4,
 "nbformat_minor": 5
}
