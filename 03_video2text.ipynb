{
 "cells": [
  {
   "cell_type": "markdown",
   "id": "0623abbc",
   "metadata": {},
   "source": [
    "This file is used to transform video to descriptive text, which use gemini-2.5-flash api. "
   ]
  },
  {
   "cell_type": "markdown",
   "id": "867f8c8f",
   "metadata": {},
   "source": [
    "## CONFIGURATIONS"
   ]
  },
  {
   "cell_type": "code",
   "execution_count": null,
   "id": "6f5c7e01",
   "metadata": {},
   "outputs": [],
   "source": [
    "CONFIG = {\n",
    "    \"gemini_api_key\": \"YOUR_GEMINI_API_KEY\",\n",
    "    \"set_proxy_net\": True,\n",
    "    \"net_proxy\": \"http://127.0.0.1:7890\", \n",
    "    \"video_file_path\": \"data\\\\videos\", # Delay between API calls to avoid rate limits\n",
    "    \"rate_limit_delay\": 2, \n",
    "    \"max_wait_time\": 180, # Maximum time to wait for video to be processed\n",
    "    \"save_path\": \"data\\\\metadata\\\\video_descriptions_en_short.json\"\n",
    "}"
   ]
  },
  {
   "cell_type": "markdown",
   "id": "5f5bf8db",
   "metadata": {},
   "source": [
    "## Base setting"
   ]
  },
  {
   "cell_type": "code",
   "execution_count": null,
   "id": "5b443316",
   "metadata": {},
   "outputs": [],
   "source": [
    "import os\n",
    "import google.generativeai as genai\n",
    "\n",
    "# 设置代理（解决网络连接问题）\n",
    "if CONFIG[\"set_proxy_net\"]: \n",
    "    os.environ[\"https_proxy\"] = CONFIG[\"net_proxy\"]\n",
    "    os.environ[\"http_proxy\"] = CONFIG[\"net_proxy\"]\n",
    "\n",
    "if not CONFIG[\"gemini_api_key\"]:\n",
    "    print(\"Please set your Gemini API key first!\")\n",
    "    print(\"\\nPlease follow these steps to set up API key:\")\n",
    "    print(\"1. Visit https://makersuite.google.com/app/apikey\")\n",
    "    print(\"2. Create a new API key\")\n",
    "    print(\"3. Set the API key in your environment variables as 'google_api_key'\")\n",
    "\n",
    "genai.configure(api_key=CONFIG[\"gemini_api_key\"])\n",
    "model = genai.GenerativeModel('gemini-2.5-flash')\n",
    "print(\"Gemini Video Description Generator (EN) initialized successfully\")"
   ]
  },
  {
   "cell_type": "markdown",
   "id": "26e4a637",
   "metadata": {},
   "source": [
    "## Define video2text function"
   ]
  },
  {
   "cell_type": "code",
   "execution_count": null,
   "id": "7af70b51",
   "metadata": {},
   "outputs": [],
   "source": [
    "import time\n",
    "\n",
    "def video2text(video_path):\n",
    "    # 获取视频文件大小（MB）\n",
    "    file_size = os.path.getsize(video_path) / (1024 * 1024)\n",
    "    print(f\"Uploading video {os.path.basename(video_path)} ({file_size:.1f}MB)...\")\n",
    "    \n",
    "    # 上传视频文件到Gemini\n",
    "    video_file = genai.upload_file(path=video_path)\n",
    "    print(f\"Video uploaded successfully: {video_file.uri}\")\n",
    "\n",
    "    print(f\"Waiting for Google to process video file {os.path.basename(video_path)}...\")\n",
    "    max_wait_time = CONFIG[\"max_wait_time\"]  # 最大等待5分钟\n",
    "    wait_start = time.time()\n",
    "\n",
    "    while True: \n",
    "        file_info = genai.get_file(name=video_file.name)\n",
    "        state = file_info.state.name\n",
    "        if state == \"ACTIVE\":\n",
    "            print(f\"Video file {os.path.basename(video_path)} processing completed\")\n",
    "            break\n",
    "        elif state == \"FAILED\":\n",
    "            print(f\"Video file {os.path.basename(video_path)} processing failed\")\n",
    "            return f\"Video file processing failed: {state}\"\n",
    "        else:\n",
    "            elapsed = time.time() - wait_start\n",
    "            if elapsed > max_wait_time:\n",
    "                print(f\"Video file processing timeout ({max_wait_time}s)\")\n",
    "                return f\"Video file processing timeout: exceeded {max_wait_time}s\"\n",
    "    \n",
    "    prompt = \"\"\"Generate a concise, one-sentence description for this video, as if you were writing alt-text for an image. The description should be purely visual and capture the main scene and action in under 70 words.\"\"\"\n",
    "    \n",
    "    # 调用Gemini API生成描述\n",
    "    print(f\"Analyzing video {os.path.basename(video_path)}...\")\n",
    "    response = model.generate_content([prompt, video_file])\n",
    "\n",
    "    description = response.text.strip()\n",
    "    print(f\"Description generation completed for video {os.path.basename(video_path)}\")\n",
    "    return description\n"
   ]
  },
  {
   "cell_type": "markdown",
   "id": "60928b78",
   "metadata": {},
   "source": [
    "## loop all the videos"
   ]
  },
  {
   "cell_type": "code",
   "execution_count": null,
   "id": "44d62a89",
   "metadata": {},
   "outputs": [],
   "source": [
    "from tqdm import tqdm\n",
    "import json\n",
    "from IPython.display import clear_output\n",
    "\n",
    "descriptions_dict = {}\n",
    "\n",
    "for file in tqdm(os.listdir(CONFIG[\"video_file_path\"]), desc=\"Processing videos\"):\n",
    "    if file.endswith(\".mp4\"):\n",
    "        video_file = os.path.join(CONFIG[\"video_file_path\"], file)\n",
    "        description = video2text(video_file)\n",
    "        descriptions_dict[file] = description\n",
    "        clear_output(wait=True)\n",
    "\n",
    "\n",
    "with open(CONFIG[\"save_path\"], 'w', encoding='utf-8') as json_file:\n",
    "    json.dump(descriptions_dict, json_file, ensure_ascii=False, indent=4)"
   ]
  }
 ],
 "metadata": {
  "kernelspec": {
   "display_name": "eeg_test",
   "language": "python",
   "name": "python3"
  },
  "language_info": {
   "codemirror_mode": {
    "name": "ipython",
    "version": 3
   },
   "file_extension": ".py",
   "mimetype": "text/x-python",
   "name": "python",
   "nbconvert_exporter": "python",
   "pygments_lexer": "ipython3",
   "version": "3.11.13"
  }
 },
 "nbformat": 4,
 "nbformat_minor": 5
}
